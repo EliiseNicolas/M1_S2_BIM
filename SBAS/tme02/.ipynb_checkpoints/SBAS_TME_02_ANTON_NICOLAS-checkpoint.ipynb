{
 "cells": [
  {
   "cell_type": "markdown",
   "metadata": {
    "id": "zc3cyupLxpLU"
   },
   "source": [
    "<h1><b>Statistique en Bioinformatique : </b> TME2 </h1>\n",
    "<br>\n",
    "L’objectif de ce TME est:\n",
    "<br>\n",
    "<ul>\n",
    "<li> objectif 1: comprendre les différences d'alignement global et local, </li>\n",
    "<li> objectif 2: reconstruire une matrice de substitution du type Blosum, </li>\n",
    "</ul>\n",
    "<br>\n",
    "<div class=\"alert alert-warning\" role=\"alert\" style=\"margin: 10px\">\n",
    "<p><b>Soumission</b></p>\n",
    "<ul>\n",
    "<li>Renomer le fichier TME2.ipynb pour SBAS_TME_2_NomEtudiant1_NomEtudiant2.ipynb </li>\n",
    "<li>Soumettre sur moodle </li>\n",
    "</ul>\n",
    "</div>"
   ]
  },
  {
   "cell_type": "markdown",
   "metadata": {
    "id": "hLY2cvLFxpLa"
   },
   "source": [
    "Nom etudiant 1 : ANTON Christine\n",
    "<br>\n",
    "Nom etudiant 2 : NICOLAS Elise\n",
    "<br>"
   ]
  },
  {
   "cell_type": "markdown",
   "metadata": {
    "id": "FRkAzmSLxpLb"
   },
   "source": [
    "<b> Exercice 1 </b>: "
   ]
  },
  {
   "cell_type": "markdown",
   "metadata": {
    "id": "HmhkuDvTxpLc"
   },
   "source": [
    "<b>A.</b> Récupérez la séquence de la protéine “metL Bifunctional aspartokinase/homoserine dehydrogenase 2” (P00562) et de la protéine “lysC Lysine-sensitive aspartokinase 3” (P08660) chez E. coli via le site <a href=\"http://www.uniprot.org/\"> Uniprot </a> au format .fasta. Reproduisez, à l’aide du site <a href=\"https://www.ebi.ac.uk/Tools/psa/\"> psa</a>, l’alignement global et local vu en TD. Observez la modification des résultats en changeant la matrice de substitution et/ou les pénalités de gap (“Gap_penalty” et “Extend_penalty”)."
   ]
  },
  {
   "cell_type": "markdown",
   "metadata": {
    "id": "mWPYrmMwxpLd"
   },
   "source": [
    "For the global alignment (Needleman-Wunsch algorithm) :"
   ]
  },
  {
   "cell_type": "markdown",
   "metadata": {},
   "source": [
    "```\n",
    "########################################\n",
    "# Program: needle\n",
    "# Rundate: Tue 28 Jan 2025 12:32:12\n",
    "# Commandline: needle\n",
    "#    -auto\n",
    "#    -stdout\n",
    "#    -asequence emboss_needle-I20250128-123209-0811-36884305-p1m.asequence\n",
    "#    -bsequence emboss_needle-I20250128-123209-0811-36884305-p1m.bsequence\n",
    "#    -datafile EBLOSUM62\n",
    "#    -gapopen 10.0\n",
    "#    -gapextend 0.5\n",
    "#    -endopen 10.0\n",
    "#    -endextend 0.5\n",
    "#    -aformat3 pair\n",
    "#    -sprotein1\n",
    "#    -sprotein2\n",
    "# Align_format: pair\n",
    "# Report_file: stdout\n",
    "########################################\n",
    "\n",
    "#=======================================\n",
    "#\n",
    "# Aligned_sequences: 2\n",
    "# 1: EMBOSS_001\n",
    "# 2: EMBOSS_001\n",
    "# Matrix: EBLOSUM62\n",
    "# Gap_penalty: 10.0\n",
    "# Extend_penalty: 0.5\n",
    "#\n",
    "# Length: 854\n",
    "# Identity:     136/854 (15.9%)\n",
    "# Similarity:   209/854 (24.5%)\n",
    "# Gaps:         449/854 (52.6%)\n",
    "# Score: 351.0\n",
    "# \n",
    "#\n",
    "#=======================================\n",
    "\n",
    "EMBOSS_001         1 MSVIAQAGAKGRQLHKFGGSSLADVKCYLRVAGIMAEYSQPDDMMVVSAA     50\n",
    "                     ||.|.        :.||||:|:||.....|.|.|:...:.. .::|:||:\n",
    "EMBOSS_001         1 MSEIV--------VSKFGGTSVADFDAMNRSADIVLSDANV-RLVVLSAS     41\n",
    "\n",
    "EMBOSS_001        51 GSTTNQLINWLK-LSQTDRLSAHQVQQTLRRYQCDLISGL----LPAEEA     95\n",
    "                     ...||.|:...: |...:|.   :....:|..|..::..|    :..||.\n",
    "EMBOSS_001        42 AGITNLLVALAEGLEPGERF---EKLDAIRNIQFAILERLRYPNVIREEI     88\n",
    "\n",
    "EMBOSS_001        96 DSLISAFVSDLERLAALLDSGINDAVYAEVVGHGEVWSARLMSAVLNQQG    145\n",
    "                     :.|:.. ::.|...|||..|   .|:..|:|.|||:.|..|...:|.::.\n",
    "EMBOSS_001        89 ERLLEN-ITVLAEAAALATS---PALTDELVSHGELMSTLLFVEILRERD    134\n",
    "\n",
    "EMBOSS_001       146 LPAAWLDAREFLRA-ERAAQPQVDEGLSYPLLQQLLVQHPGKRLVVT-GF    193\n",
    "                     :.|.|.|.|:.:|. :|..:.:.|......|....|:....:.||:| ||\n",
    "EMBOSS_001       135 VQAQWFDVRKVMRTNDRFGRAEPDIAALAELAALQLLPRLNEGLVITQGF    184\n",
    "\n",
    "EMBOSS_001       194 ISRNNAGETVLLGRNGSDYSATQIGALAGVSRVTIWSDVAGVYSADPRKV    243\n",
    "                     |...|.|.|..|||.||||:|..:......|||.||:||.|:|:.|||.|\n",
    "EMBOSS_001       185 IGSENKGRTTTLGRGGSDYTAALLAEALHASRVDIWTDVPGIYTTDPRVV    234\n",
    "\n",
    "EMBOSS_001       244 KDACLLPLLRLDEASELARLAAPVLHARTLQPVSGSEIDLQLRCSYTPDQ    293\n",
    "                     ..|..:..:...||:|:|...|.|||..||.|...|:|.:.:..|..|..\n",
    "EMBOSS_001       235 SAAKRIDEIAFAEAAEMATFGAKVLHPATLLPAVRSDIPVFVGSSKDPRA    284\n",
    "\n",
    "EMBOSS_001       294 GSTRI---------ERVLASGTGARIVTSHDDVCLIEFQVPASQDFKLAH    334\n",
    "                     |.|.:         .|.||......::|.|      ...:..|:.| || \n",
    "EMBOSS_001       285 GGTLVCNKTENPPLFRALALRRNQTLLTLH------SLNMLHSRGF-LA-    326\n",
    "\n",
    "EMBOSS_001       335 KEIDQILKRAQVRPLAVGVHNDRQLLQFCYTSEVA--------------D    370\n",
    "                      |:..||.|          ||..  :....||||:              |\n",
    "EMBOSS_001       327 -EVFGILAR----------HNIS--VDLITTSEVSVALTLDTTGSTSTGD    363\n",
    "\n",
    "EMBOSS_001       371 SAL--KILDEAGLPGELRLRQGLALVAMVGAGVTR------------NPL    406\n",
    "                     :.|  .:|.|......:.:.:||||||::|..:::            .|.\n",
    "EMBOSS_001       364 TLLTQSLLMELSALCRVEVEEGLALVALIGNDLSKACGVGKEVFGVLEPF    413\n",
    "\n",
    "EMBOSS_001       407 HCHRFWQQLKGQPVEFTWQSDDGISLVAVLRTGPTESLIQGLHQSVFRAE    456\n",
    "                     :............:.|....:|            .|.::|.||.::|.  \n",
    "EMBOSS_001       414 NIRMICYGASSHNLCFLVPGED------------AEQVVQKLHSNLFE--    449\n",
    "\n",
    "EMBOSS_001       457 KRIGLVLFGKGNIGSRWLELFAREQSTLSARTGFEFVLAGVVDSRRSLLS    506\n",
    "                                                                       \n",
    "EMBOSS_001       450 --------------------------------------------------    449\n",
    "\n",
    "EMBOSS_001       507 YDGLDASRALAFFNDEAVEQDEESLFLWMRAHPYDDLVVLDVTASQQLAD    556\n",
    "                                                                       \n",
    "EMBOSS_001       450 --------------------------------------------------    449\n",
    "\n",
    "EMBOSS_001       557 QYLDFASHGFHVISANKLAGASDSNKYRQIHDAFEKTGRHWLYNATVGAG    606\n",
    "                                                                       \n",
    "EMBOSS_001       450 --------------------------------------------------    449\n",
    "\n",
    "EMBOSS_001       607 LPINHTVRDLIDSGDTILSISGIFSGTLSWLFLQFDGSVPFTELVDQAWQ    656\n",
    "                                                                       \n",
    "EMBOSS_001       450 --------------------------------------------------    449\n",
    "\n",
    "EMBOSS_001       657 QGLTEPDPRDDLSGKDVMRKLVILAREAGYNIEPDQVRVESLVPAHCEGG    706\n",
    "                                                                       \n",
    "EMBOSS_001       450 --------------------------------------------------    449\n",
    "\n",
    "EMBOSS_001       707 SIDHFFENGDELNEQMVQRLEAAREMGLVLRYVARFDANGKARVGVEAVR    756\n",
    "                                                                       \n",
    "EMBOSS_001       450 --------------------------------------------------    449\n",
    "\n",
    "EMBOSS_001       757 EDHPLASLLPCDNVFAIESRWYRDNPLVIRGPGAGRDVTAGAIQSDINRL    806\n",
    "                                                                       \n",
    "EMBOSS_001       450 --------------------------------------------------    449\n",
    "\n",
    "EMBOSS_001       807 AQLL    810\n",
    "                         \n",
    "EMBOSS_001       450 ----    449\n",
    "\n",
    "\n",
    "#---------------------------------------\n",
    "#---------------------------------------\n",
    "```\n",
    "\n",
    "When we change the substitution matrix to BLOSUM50 and the gap penalties (Gap_penalty to 5 and Extend_penalty to 0.1), the identity percentage, similarity percentage and the gap percentage increase.\n",
    "\n",
    "```\n",
    "#=======================================\n",
    "#\n",
    "# Aligned_sequences: 2\n",
    "# 1: EMBOSS_001\n",
    "# 2: EMBOSS_001\n",
    "# Matrix: EBLOSUM50\n",
    "# Gap_penalty: 5.0\n",
    "# Extend_penalty: 0.1\n",
    "#\n",
    "# Length: 894\n",
    "# Identity:     193/894 (21.6%)\n",
    "# Similarity:   273/894 (30.5%)\n",
    "# Gaps:         529/894 (59.2%)\n",
    "# Score: 913.408\n",
    "# \n",
    "#\n",
    "#=======================================\n",
    "```"
   ]
  },
  {
   "cell_type": "markdown",
   "metadata": {},
   "source": [
    "For the local alignment :"
   ]
  },
  {
   "cell_type": "markdown",
   "metadata": {},
   "source": [
    "```\n",
    "########################################\n",
    "# Program: water\n",
    "# Rundate: Tue 28 Jan 2025 15:25:57\n",
    "# Commandline: water\n",
    "#    -auto\n",
    "#    -stdout\n",
    "#    -asequence emboss_water-I20250128-152552-0951-88113-p1m.asequence\n",
    "#    -bsequence emboss_water-I20250128-152552-0951-88113-p1m.bsequence\n",
    "#    -datafile EBLOSUM62\n",
    "#    -gapopen 10.0\n",
    "#    -gapextend 0.5\n",
    "#    -aformat3 pair\n",
    "#    -sprotein1\n",
    "#    -sprotein2\n",
    "# Align_format: pair\n",
    "# Report_file: stdout\n",
    "########################################\n",
    "\n",
    "#=======================================\n",
    "#\n",
    "# Aligned_sequences: 2\n",
    "# 1: EMBOSS_001\n",
    "# 2: EMBOSS_001\n",
    "# Matrix: EBLOSUM62\n",
    "# Gap_penalty: 10.0\n",
    "# Extend_penalty: 0.5\n",
    "#\n",
    "# Length: 482\n",
    "# Identity:     133/482 (27.6%)\n",
    "# Similarity:   205/482 (42.5%)\n",
    "# Gaps:          85/482 (17.6%)\n",
    "# Score: 353.5\n",
    "# \n",
    "#\n",
    "#=======================================\n",
    "\n",
    "EMBOSS_001        16 KFGGSSLADVKCYLRVAGIMAEYSQPDDMMVVSAAGSTTNQLINWLK-LS     64\n",
    "                     ||||:|:||.....|.|.|:...:.. .::|:||:...||.|:...: |.\n",
    "EMBOSS_001         8 KFGGTSVADFDAMNRSADIVLSDANV-RLVVLSASAGITNLLVALAEGLE     56\n",
    "\n",
    "EMBOSS_001        65 QTDRLSAHQVQQTLRRYQCDLISGL----LPAEEADSLISAFVSDLERLA    110\n",
    "                     ..:|.   :....:|..|..::..|    :..||.:.|:.. ::.|...|\n",
    "EMBOSS_001        57 PGERF---EKLDAIRNIQFAILERLRYPNVIREEIERLLEN-ITVLAEAA    102\n",
    "\n",
    "EMBOSS_001       111 ALLDSGINDAVYAEVVGHGEVWSARLMSAVLNQQGLPAAWLDAREFLRA-    159\n",
    "                     ||..|   .|:..|:|.|||:.|..|...:|.::.:.|.|.|.|:.:|. \n",
    "EMBOSS_001       103 ALATS---PALTDELVSHGELMSTLLFVEILRERDVQAQWFDVRKVMRTN    149\n",
    "\n",
    "EMBOSS_001       160 ERAAQPQVDEGLSYPLLQQLLVQHPGKRLVVT-GFISRNNAGETVLLGRN    208\n",
    "                     :|..:.:.|......|....|:....:.||:| |||...|.|.|..|||.\n",
    "EMBOSS_001       150 DRFGRAEPDIAALAELAALQLLPRLNEGLVITQGFIGSENKGRTTTLGRG    199\n",
    "\n",
    "EMBOSS_001       209 GSDYSATQIGALAGVSRVTIWSDVAGVYSADPRKVKDACLLPLLRLDEAS    258\n",
    "                     ||||:|..:......|||.||:||.|:|:.|||.|..|..:..:...||:\n",
    "EMBOSS_001       200 GSDYTAALLAEALHASRVDIWTDVPGIYTTDPRVVSAAKRIDEIAFAEAA    249\n",
    "\n",
    "EMBOSS_001       259 ELARLAAPVLHARTLQPVSGSEIDLQLRCSYTPDQGSTRI---------E    299\n",
    "                     |:|...|.|||..||.|...|:|.:.:..|..|..|.|.:         .\n",
    "EMBOSS_001       250 EMATFGAKVLHPATLLPAVRSDIPVFVGSSKDPRAGGTLVCNKTENPPLF    299\n",
    "\n",
    "EMBOSS_001       300 RVLASGTGARIVTSHDDVCLIEFQVPASQDFKLAHKEIDQILKRAQVRPL    349\n",
    "                     |.||......::|.|      ...:..|:.| ||  |:..||.|      \n",
    "EMBOSS_001       300 RALALRRNQTLLTLH------SLNMLHSRGF-LA--EVFGILAR------    334\n",
    "\n",
    "EMBOSS_001       350 AVGVHNDRQLLQFCYTSEVA--------------DSAL--KILDEAGLPG    383\n",
    "                         ||..  :....||||:              |:.|  .:|.|.....\n",
    "EMBOSS_001       335 ----HNIS--VDLITTSEVSVALTLDTTGSTSTGDTLLTQSLLMELSALC    378\n",
    "\n",
    "EMBOSS_001       384 ELRLRQGLALVAMVGAGVTR------------NPLHCHRFWQQLKGQPVE    421\n",
    "                     .:.:.:||||||::|..:::            .|.:............:.\n",
    "EMBOSS_001       379 RVEVEEGLALVALIGNDLSKACGVGKEVFGVLEPFNIRMICYGASSHNLC    428\n",
    "\n",
    "EMBOSS_001       422 FTWQSDDGISLVAVLRTGPTESLIQGLHQSVF    453\n",
    "                     |....:|            .|.::|.||.::|\n",
    "EMBOSS_001       429 FLVPGED------------AEQVVQKLHSNLF    448\n",
    "\n",
    "\n",
    "#---------------------------------------\n",
    "#---------------------------------------\n",
    "```\n",
    "\n",
    "When we change the substitution matrix to BLOSUM50 and the gap penalties (Gap_penalty to 5 and Extend_penalty to 0.1), the identity percentage and similarity percentage decrease and the gap percentage increase.\n",
    "\n",
    "```\n",
    "#=======================================\n",
    "#\n",
    "# Aligned_sequences: 2\n",
    "# 1: EMBOSS_001\n",
    "# 2: EMBOSS_001\n",
    "# Matrix: EBLOSUM50\n",
    "# Gap_penalty: 5.0\n",
    "# Extend_penalty: 0.1\n",
    "#\n",
    "# Length: 873\n",
    "# Identity:     199/873 (22.8%)\n",
    "# Similarity:   269/873 (30.8%)\n",
    "# Gaps:         523/873 (59.9%)\n",
    "# Score: 913.4\n",
    "# \n",
    "#\n",
    "#=======================================\n",
    "```"
   ]
  },
  {
   "cell_type": "markdown",
   "metadata": {
    "id": "defYSqBzxpLd"
   },
   "source": [
    "<b>Exercice 2</b>: Score alignement global, local <br>\n",
    "Faire une fonction pour calculer : 1) la pourcentage de identité, 2) la pourcentage de similarité, 3) le score d’un alignement en utilisant la matrix blosum62. Le calcul de la similarité doit prendre en considération les acides amine ayant la même propriété physico chimique. Dans notre cas, tous les acides amine qui ont des valeurs supérieur à zéro dans la matrice BLOSUM62. Le score basé sur la matrice blosum doit aussi prendre en considération les deux pénalités de gaps, ouverture et extension. Teste vos fonctions en utilisant le fichier test.fasta\n"
   ]
  },
  {
   "cell_type": "code",
   "execution_count": 7,
   "metadata": {
    "id": "IJbv2IIxxpLe"
   },
   "outputs": [],
   "source": [
    "import numpy as np\n",
    "\n",
    "#variable initiation\n",
    "aa = ['A', 'R', 'N', 'D', 'C', 'Q', 'E', 'G', 'H', 'I', 'L', 'K', 'M', 'F', 'P', 'S', 'T', 'W', 'Y', 'V', 'X']\n",
    "\n",
    "#parameters\n",
    "q = 21\n",
    "gap_open = 5\n",
    "gap_ext = 0.5\n",
    "\n",
    "#files\n",
    "input_test_f = 'test.fasta'\n",
    "input_blosum_f = 'BLOSUM62.txt'\n",
    "\n",
    "#For a simple test use:\n",
    "input_test_f = 'testToy.fasta'"
   ]
  },
  {
   "cell_type": "code",
   "execution_count": 8,
   "metadata": {
    "id": "ue8REeWDxpLg"
   },
   "outputs": [
    {
     "name": "stdout",
     "output_type": "stream",
     "text": [
      "['ACCD', 'A-CD']\n"
     ]
    }
   ],
   "source": [
    "#Read the test.fasta file\n",
    "def read_fasta(input_f):\n",
    "    \"\"\"\n",
    "    Input1 input_f: fasta file name\n",
    "    Output1 arr_seqs: List of sequences\n",
    "    REMARK : We keep only the sequences, identifiers are not necessary\n",
    "    \"\"\"\n",
    "    arr_seqs = []\n",
    "    with open(input_f, 'r') as in_f :\n",
    "        for line in in_f :\n",
    "            if not line.startswith ('>') : \n",
    "                arr_seqs.append(line.strip())\n",
    "    return arr_seqs\n",
    "\n",
    "\n",
    "testAln = read_fasta(input_test_f)\n",
    "print(testAln)\n",
    "#It shlould print ['ACCD', 'A-CD'] when using toy"
   ]
  },
  {
   "cell_type": "code",
   "execution_count": 9,
   "metadata": {
    "id": "_y2pUQhpxpLi"
   },
   "outputs": [
    {
     "name": "stdout",
     "output_type": "stream",
     "text": [
      "[[ 4 -1 -2 -2  0 -1 -1  0 -2 -1 -1 -1 -1 -2 -1  1  0 -3 -2  0  0]\n",
      " [-1  5  0 -2 -3  1  0 -2  0 -3 -2  2 -1 -3 -2 -1 -1 -3 -2 -3 -1]\n",
      " [-2  0  6  1 -3  0  0  0  1 -3 -3  0 -2 -3 -2  1  0 -4 -2 -3 -1]\n",
      " [-2 -2  1  6 -3  0  2 -1 -1 -3 -4 -1 -3 -3 -1  0 -1 -4 -3 -3 -1]\n",
      " [ 0 -3 -3 -3  9 -3 -4 -3 -3 -1 -1 -3 -1 -2 -3 -1 -1 -2 -2 -1 -2]\n",
      " [-1  1  0  0 -3  5  2 -2  0 -3 -2  1  0 -3 -1  0 -1 -2 -1 -2 -1]\n",
      " [-1  0  0  2 -4  2  5 -2  0 -3 -3  1 -2 -3 -1  0 -1 -3 -2 -2 -1]\n",
      " [ 0 -2  0 -1 -3 -2 -2  6 -2 -4 -4 -2 -3 -3 -2  0 -2 -2 -3 -3 -1]\n",
      " [-2  0  1 -1 -3  0  0 -2  8 -3 -3 -1 -2 -1 -2 -1 -2 -2  2 -3 -1]\n",
      " [-1 -3 -3 -3 -1 -3 -3 -4 -3  4  2 -3  1  0 -3 -2 -1 -3 -1  3 -1]\n",
      " [-1 -2 -3 -4 -1 -2 -3 -4 -3  2  4 -2  2  0 -3 -2 -1 -2 -1  1 -1]\n",
      " [-1  2  0 -1 -3  1  1 -2 -1 -3 -2  5 -1 -3 -1  0 -1 -3 -2 -2 -1]\n",
      " [-1 -1 -2 -3 -1  0 -2 -3 -2  1  2 -1  5  0 -2 -1 -1 -1 -1  1 -1]\n",
      " [-2 -3 -3 -3 -2 -3 -3 -3 -1  0  0 -3  0  6 -4 -2 -2  1  3 -1 -1]\n",
      " [-1 -2 -2 -1 -3 -1 -1 -2 -2 -3 -3 -1 -2 -4  7 -1 -1 -4 -3 -2 -2]\n",
      " [ 1 -1  1  0 -1  0  0  0 -1 -2 -2  0 -1 -2 -1  4  1 -3 -2 -2  0]\n",
      " [ 0 -1  0 -1 -1 -1 -1 -2 -2 -1 -1 -1 -1 -2 -1  1  5 -2 -2  0  0]\n",
      " [-3 -3 -4 -4 -2 -2 -3 -2 -2 -3 -2 -3 -1  1 -4 -3 -2 11  2 -3 -2]\n",
      " [-2 -2 -2 -3 -2 -1 -2 -3  2 -1 -1 -2 -1  3 -3 -2 -2  2  7 -1 -1]\n",
      " [ 0 -3 -3 -3 -1 -2 -2 -3 -3  3  1 -2  1 -1 -2 -2  0 -3 -1  4 -1]\n",
      " [ 0 -1 -1 -1 -2 -1 -1 -1 -1 -1 -1 -1 -1 -1 -2  0  0 -2 -1 -1 -1]]\n"
     ]
    }
   ],
   "source": [
    "#read Blosum\n",
    "def read_blosum(input_f) :\n",
    "    \"\"\"\n",
    "    Input1 input_f : blosum file name\n",
    "    Output1: a matrix of dimention [q-1, q-1]\n",
    "    REMARK : You should eliminate the columns/rows B, Z and * from Blosum file\n",
    "    \"\"\"\n",
    "    blosum = np.zeros((q-1,q-1))\n",
    "    unwanted_aa = {'B', 'Z', '*'}\n",
    "    first_line = True\n",
    "    aa_list = []\n",
    "    matrix_lines = []\n",
    "    row_idx = 0\n",
    "    \n",
    "    with open(input_f, 'r') as in_f :\n",
    "        for line in in_f :\n",
    "            if line.startswith(\"#\") or line.strip() == \"\" :\n",
    "                continue\n",
    "            \n",
    "            if first_line :\n",
    "                first_line = False \n",
    "                aa_list = line.split()\n",
    "                continue\n",
    "\n",
    "            parts = line.split()\n",
    "            scores = list(map(int, parts[1:]))\n",
    "            matrix_lines.append(scores)\n",
    "\n",
    "    matrix = np.array(matrix_lines)\n",
    "    for aa in unwanted_aa :\n",
    "        ind = aa_list.index(aa)\n",
    "        matrix = np.delete(matrix, ind, axis=0)\n",
    "        matrix = np.delete(matrix, ind, axis=1)\n",
    "        del aa_list[ind]\n",
    "\n",
    "    blosum = matrix \n",
    "    \n",
    "    return blosum\n",
    "\n",
    "matr_62 = read_blosum(input_blosum_f)\n",
    "print(matr_62)"
   ]
  },
  {
   "cell_type": "code",
   "execution_count": 10,
   "metadata": {
    "id": "kVERnb8YxpLi"
   },
   "outputs": [
    {
     "name": "stdout",
     "output_type": "stream",
     "text": [
      "identitee=  0.75  similarity=  0.75  score=  14.0\n"
     ]
    }
   ],
   "source": [
    "def indentite_calcul(seq1, seq2, gap_open, gap_ext, matr_62):\n",
    "    \"\"\"\n",
    "    Input1 seq1 : sequence\n",
    "    Input2 seq2 : sequence\n",
    "    Input3 gap_open : gap open penality\n",
    "    Input4 gap_ext : gap extention penality\n",
    "    Input5 matr_62 :  a matrix of dimention [q-1, q-1] representing substitution matrix\n",
    "    Output1 ident: sequence identity\n",
    "    Output2 similaire: sequence similarity\n",
    "    Output3 score: aligment score\n",
    "    \"\"\"\n",
    "    # Initialization\n",
    "    score = 0.\n",
    "    similaire = 0\n",
    "    ident = 0\n",
    "    gap = False # True when we are in a gap\n",
    "\n",
    "    # Compute score, identity and similarity\n",
    "    for ind, (aa1,aa2) in enumerate(zip(seq1, seq2)) :\n",
    "        # If match \n",
    "        if(aa1 == aa2) :\n",
    "            pos_aa1 = aa.index(aa1)\n",
    "            pos_aa2 = aa.index(aa2)\n",
    "            # Increase ident, similarity and score\n",
    "            ident += 1\n",
    "            similaire += 1\n",
    "            score += matr_62[pos_aa1, pos_aa2]\n",
    "            gap = False\n",
    "\n",
    "        # If gap \n",
    "        if (aa1 == '-' or aa2 == '-') :\n",
    "            if not gap :\n",
    "                score -= gap_open\n",
    "            else :\n",
    "                score -= gap_ext\n",
    "            gap = True\n",
    "\n",
    "        # If not match\n",
    "        if(aa1 != aa2 and aa1 != '-' and aa2 != '-') :\n",
    "            pos_aa1 = aa.index(aa1)\n",
    "            pos_aa2 = aa.index(aa2)\n",
    "            # If similar properties of aa of both sequences\n",
    "            if(matr_62[pos_aa1, pos_aa2] > 0):\n",
    "                # Increase similarity\n",
    "                similaire += 1\n",
    "            score += matr_62[pos_aa1, pos_aa2]\n",
    "            gap = False\n",
    "\n",
    "    # Normalization\n",
    "    identitee = ident/len(seq1)\n",
    "    similarity = similaire/len(seq1)\n",
    "\n",
    "    return identitee, similarity, score\n",
    "\n",
    "identitee,similarity,score = indentite_calcul(testAln[0], testAln[1], gap_open, gap_ext, matr_62)\n",
    "print (\"identitee= \", identitee , \" similarity= \", similarity, \" score= \", score )\n",
    "\n",
    "#identitee=  0.75  similarity=  0.75  score=  14.0"
   ]
  },
  {
   "cell_type": "markdown",
   "metadata": {
    "id": "8cpbRq5FxpLj"
   },
   "source": [
    "<b>Exercice 3</b>: Matrice de substitution <br>\n",
    "Faire une programme (plusieurs fonctions seront nécessaires) pour produire une matrix de substitution comme Blosum. Utiliser l’alignement du fichiers <b>blocks.dat</b> Vous pouvez tester vous fonctions sue le fichier <b>blockToy.dat</b>.\n"
   ]
  },
  {
   "cell_type": "code",
   "execution_count": 11,
   "metadata": {
    "id": "eOdfz9ooxpLk"
   },
   "outputs": [],
   "source": [
    "from itertools import combinations, combinations_with_replacement\n",
    "from collections import Counter\n",
    "\n",
    "input_block_f = 'blockToy.dat'\n",
    "\n",
    "\n",
    "#For a simple test do:\n",
    "q = 3\n",
    "aa = ['A', 'B', 'C']\n",
    "\n"
   ]
  },
  {
   "cell_type": "code",
   "execution_count": 17,
   "metadata": {
    "id": "dujYZbatxpLk"
   },
   "outputs": [
    {
     "name": "stdout",
     "output_type": "stream",
     "text": [
      "[['A' 'B' 'C' 'C' 'B']\n",
      " ['A' 'C' 'A' 'B' 'A']\n",
      " ['C' 'B' 'C' 'C' 'B']\n",
      " ['A' 'C' 'B' 'B' 'B']]\n",
      "5\n"
     ]
    }
   ],
   "source": [
    "#read alignment file\n",
    "from io import StringIO\n",
    "import sys\n",
    "\n",
    "def readAlnFile(input_f):\n",
    "\t\"\"\"\n",
    "\tInput1 input_f : Alignment File name\n",
    "\tOutput1 aln : List of aligned sequences\n",
    "\tOutput2 cols : Number of colums (L)\n",
    "\t\"\"\"\n",
    "\tlist_seqs=[]\n",
    "\twith open(input_f, 'r') as al_f :\n",
    "\t\tfor line in al_f :\n",
    "\t\t\tchar_list = list(line)\n",
    "\t\t\tchar_list = [char for char in char_list if char !='\\n']\n",
    "\t\t\tlist_seqs.append(char_list)\n",
    "\taln = np.array(list_seqs)\n",
    "\tcols=aln.shape[1]\n",
    "\tprint(aln)\n",
    "\treturn aln, cols\n",
    "\n",
    "aln, cols  = readAlnFile(input_block_f)\n",
    "#cols = 43\n",
    "cols = 5 #testing toy\n",
    "print(cols)\n"
   ]
  },
  {
   "cell_type": "code",
   "execution_count": 18,
   "metadata": {
    "id": "rUmAvC7ixpLl"
   },
   "outputs": [
    {
     "name": "stdout",
     "output_type": "stream",
     "text": [
      "{('A', 'A'): 3, ('A', 'B'): 4, ('A', 'C'): 5, ('B', 'B'): 5, ('B', 'C'): 10, ('C', 'C'): 3}\n"
     ]
    }
   ],
   "source": [
    "#compute fij frequences\n",
    "def frequencies (aln, cols, aa):\n",
    "\t\"\"\"\n",
    "\tInput1 aln : List of aligned sequences\n",
    "\tInput2 cols : Number of colums in the aligment (L)\n",
    "\tInput3 aa: residue alphabet\n",
    "\tOutput1  pairs_freq_dict: a dictionary containing residue pair frequencies\n",
    "\t\"\"\"\n",
    "\t# Generate all aa combination\n",
    "\tpairs_freq_dict = {x:0 for x in combinations_with_replacement(aa,2)}\n",
    "\taa.sort()\n",
    "\t\n",
    "\tfor col in range(cols) :\n",
    "\t\tfor line_fixe in range(aln.shape[0]) :\n",
    "\t\t\tfor line in range(line_fixe+1, aln.shape[0]) :\n",
    "\t\t\t\ttry : \n",
    "\t\t\t\t\tpair = (aln[line_fixe, col], aln[line, col])\n",
    "\t\t\t\t\tpairs_freq_dict[pair]+=1\n",
    "\t\t\t\texcept : \n",
    "\t\t\t\t\tpair = (aln[line, col], aln[line_fixe, col])\n",
    "\t\t\t\t\tpairs_freq_dict[pair]+=1\n",
    "\n",
    "\treturn pairs_freq_dict\n",
    "\n",
    "pairs_freq_dict = frequencies (aln, cols, aa)\n",
    "print (pairs_freq_dict)\n",
    "#{('A', 'A'): 3, ('A', 'B'): 4, ('A', 'C'): 5, ('B', 'B'): 5, ('B', 'C'): 10, ('C', 'C'): 3}"
   ]
  },
  {
   "cell_type": "code",
   "execution_count": 19,
   "metadata": {
    "id": "exH7_KG2xpLl"
   },
   "outputs": [
    {
     "name": "stdout",
     "output_type": "stream",
     "text": [
      "30\n"
     ]
    }
   ],
   "source": [
    "#compute T\n",
    "def calcule_T(pairs_freq_dict):\n",
    "\t\"\"\"\n",
    "\tInput1 pairs_freq_dict: a dictionary containing residue pair frequencies\n",
    "\t  Output1 : T, the overall sum\n",
    "\t\"\"\"\n",
    "\tT = sum(list(pairs_freq_dict.values()))\n",
    "\n",
    "\treturn T\n",
    "\n",
    "T = calcule_T(pairs_freq_dict)\n",
    "print (T)\n",
    "#30"
   ]
  },
  {
   "cell_type": "code",
   "execution_count": 22,
   "metadata": {
    "id": "JkpXjmJ-xpLm"
   },
   "outputs": [
    {
     "name": "stdout",
     "output_type": "stream",
     "text": [
      "[0.25 0.4  0.35]\n"
     ]
    }
   ],
   "source": [
    "#compute pi\n",
    "def calcule_p_is(pairs_freq_dict, T):\n",
    "\t\"\"\"\n",
    "\tCompute the probability of each residue.\n",
    "\tInput1 pairs_freq_dict: a dictionary containing residue pair frequencies\n",
    "\tInput2 T : the overall sum\n",
    "\tOutput1 pi: List of probabilities\n",
    "\tREMARK : You can compute qij directly from pairs_freq_dict or create a function to do so.\n",
    "\t\"\"\"\n",
    "\tL = len(aa)\n",
    "\tpi = np.zeros(L)\n",
    "\n",
    "\tfor pair in pairs_freq_dict.keys() :\n",
    "\t\taa1, aa2 = pair\n",
    "\t\tindex1 = aa.index(aa1)\n",
    "\t\tindex2 = aa.index(aa2)\n",
    "\t\tpi[index1]+=pairs_freq_dict[pair]/T\n",
    "\t\tpi[index2]+=pairs_freq_dict[pair]/T\n",
    "\n",
    "    # We divide by 2 to avoid counting each pair twice\n",
    "\treturn pi/2\n",
    "\n",
    "pi = calcule_p_is(pairs_freq_dict, T)\n",
    "print (pi)\n",
    "#[0.25, 0.4, 0.35]"
   ]
  },
  {
   "cell_type": "code",
   "execution_count": 24,
   "metadata": {
    "id": "RLS7JUa2xpLm"
   },
   "outputs": [
    {
     "name": "stdout",
     "output_type": "stream",
     "text": [
      "[[ 0.47000363 -0.40546511 -0.04879016]\n",
      " [-0.40546511  0.04082199  0.17435339]\n",
      " [-0.04879016  0.17435339 -0.20294084]]\n"
     ]
    }
   ],
   "source": [
    "#compute Sij\n",
    "def calcule_S_i_j(pairs_freq_dict, p, T):\n",
    "\t\"\"\"\n",
    "\tInput1 pairs_freq_dict: a dictionary containing residue pair frequencies\n",
    "\tInput2 p: List of probabilities for each residue\n",
    "\tInput3 T: the overall sum\n",
    "\tOutput1 s: Score for each residue pair\n",
    "\t\"\"\"\n",
    "\tL = len(aa)\n",
    "\ts = np.zeros((L, L))\n",
    "    \n",
    "\tfor (i, j), freq in pairs_freq_dict.items():\n",
    "\t\tp_expected = p[aa.index(i)]*p[aa.index(j)] \n",
    "\t\tqij = freq/T  \n",
    "\t\tif (i != j) :\n",
    "\t\t\tp_expected = 2*p_expected\n",
    "\t\tscore = np.log(qij/p_expected)  \n",
    "\n",
    "\t\ts[aa.index(i), aa.index(j)] = score\n",
    "\t\ts[aa.index(j), aa.index(i)] = score\n",
    "\n",
    "\treturn s\n",
    "    \n",
    "Sij = calcule_S_i_j(pairs_freq_dict, pi, T)\n",
    "print (Sij)\n",
    "#[[0.47000362924573563, -0.40546510810816444, -0.048790164169431945], [-0.40546510810816444, 0.04082199452025478, 0.17435338714477774], [-0.048790164169431945, 0.17435338714477774, -0.20294084399669016]]"
   ]
  },
  {
   "cell_type": "code",
   "execution_count": 25,
   "metadata": {
    "id": "_4_r2vq5xpLm"
   },
   "outputs": [
    {
     "name": "stdout",
     "output_type": "stream",
     "text": [
      "Blosum matrix from Blocks database:\n",
      "     |    A|    B|    C|\n",
      "    A| 0.47|-0.41|-0.05|\n",
      "    B|-0.41| 0.04| 0.17|\n",
      "    C|-0.05| 0.17|-0.20|\n"
     ]
    }
   ],
   "source": [
    "#print Matrix\n",
    "Sij_c = [[\"{:0.2f}\".format(x) for x in l] for l in Sij]\n",
    "print('Blosum matrix from Blocks database:')\n",
    "row_format =\"{:>5}|\" * (len(aa) + 1)\n",
    "print(row_format.format(\"\", *aa))\n",
    "for aa, row in zip(aa, Sij_c):\n",
    "\tprint(row_format.format(aa, *row))"
   ]
  }
 ],
 "metadata": {
  "colab": {
   "provenance": []
  },
  "kernelspec": {
   "display_name": "Python 3 (ipykernel)",
   "language": "python",
   "name": "python3"
  },
  "language_info": {
   "codemirror_mode": {
    "name": "ipython",
    "version": 3
   },
   "file_extension": ".py",
   "mimetype": "text/x-python",
   "name": "python",
   "nbconvert_exporter": "python",
   "pygments_lexer": "ipython3",
   "version": "3.12.3"
  }
 },
 "nbformat": 4,
 "nbformat_minor": 4
}
