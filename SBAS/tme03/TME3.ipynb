{
 "cells": [
  {
   "cell_type": "markdown",
   "metadata": {
    "id": "7Z01TTBN8dMn"
   },
   "source": [
    "<h1><b>Statistique en Bioinformatique : </b> TME3 </h1>\n",
    "<br>\n",
    "L’objectif de ce TME est:\n",
    "<br>\n",
    "<ul>\n",
    "<li> objectif 1: comprendre les principales étapes de BLAST et PSIBLAST, </li>\n",
    "<li> objectif 2: comprendre et comparer les algoritimes de l'alignement progressive </li>\n",
    "</ul>\n",
    "<br>\n",
    "<div class=\"alert alert-warning\" role=\"alert\" style=\"margin: 10px\">\n",
    "<p><b>Soumission</b></p>\n",
    "<ul>\n",
    "<li>Soumettre sur moodle </li>\n",
    "</ul>\n",
    "</div>\n"
   ]
  },
  {
   "cell_type": "markdown",
   "metadata": {
    "id": "Ex2vcDtH8dMs"
   },
   "source": [
    "Nom etudiant 1 : ANTON Christine\n",
    "<br>\n",
    "Nom etudiant 2 : NICOLAS Elise\n",
    "<br>"
   ]
  },
  {
   "cell_type": "markdown",
   "metadata": {
    "id": "tG0LfDfK8dMt"
   },
   "source": [
    "<h3>Section 1: BLAST</h3>\n",
    "\n",
    "<b> Exercice 1 </b>: À partir de l'application BLAST, disponible via le site de <a href=\"http://blast.ncbi.nlm.nih.gov/\">NCBI</a>, cliquez sur protein Blast. Faites un BLAST de la séquence fasta/seq1.fasta. Expliquez le résultat graphique, la couleur de chaque hit et expliquez le tableau de résultat qu'est-ce que c'est chaque colonne?\n",
    "<br>\n"
   ]
  },
  {
   "cell_type": "markdown",
   "metadata": {
    "id": "1BEcym0S8dMu"
   },
   "source": [
    "<font color=\"red\"> Réponse : </font>\n",
    "<font color=\"blue\"> \n",
    "<br>\n",
    "The graphical result of the alignments shows the distribution of the top 120 BLAST hits on 100 subject sequences. The color of each hit reflects the quality of the hit : red -> high score (>=200); pink -> medium score (80–200); green -> low score (50–80); blue -> even lower score (40–50); black -> very low score (<40). The length of the bar reflects the extent of the alignment relative to the query sequence.\n",
    "<br>\n",
    "For seq1.fasta, we observe around 40 red hits (score >= 200) of the same length as the query sequence, along with other shorter sequences with slightly lower alignment scores (between 50 and 200).\n",
    "<br>\n",
    "The results table lists the subject sequences that match our query sequence. The different columns are : Description (description of the protein sequence), Scientific name (name and species of the identified protein), Max score, Total score, Query cover (percentage of the query sequence covered by the alignment), E-value (probability of obtaining this result by chance (the closer it is to 0, the better)), Identity percentage, Length of sequence, and Accession (link to the complete sequence in the database).\n",
    "</font>"
   ]
  },
  {
   "cell_type": "markdown",
   "metadata": {
    "id": "gVzhpUTg8dMv"
   },
   "source": [
    "<b>Exercice 2</b>: On s'intéresse à présent au gène FHIT chez l'homme (fragile histidine triad protein, identifiant P49789, télécharger du site  <a href=\"http://www.uniprot.org/\"> Uniprot </a>). La protéine de ce gène est structurellement proche des galactose-1-phosphate uridylyltransferases. Faites un BLAST de ce gène contre la base SWISSPROT. Que constatez-vous?"
   ]
  },
  {
   "cell_type": "markdown",
   "metadata": {
    "id": "YKNazevu8dMw"
   },
   "source": [
    "<font color=\"red\"> Réponse : </font>\n",
    "<font color=\"blue\">\n",
    "Entièrement séquences rouges\n",
    "</font>"
   ]
  },
  {
   "cell_type": "markdown",
   "metadata": {
    "id": "ifCzIqX48dMw"
   },
   "source": [
    "<b>Exercice 3</b>: Implémenter l'étape 0 du algorithme BLAST (indexer la base de données), utilise w=5 et les séquences du fichier database.fasta."
   ]
  },
  {
   "cell_type": "code",
   "execution_count": 39,
   "metadata": {},
   "outputs": [],
   "source": [
    "# Imports\n",
    "\n",
    "import numpy as np\n",
    "from itertools import combinations, combinations_with_replacement\n"
   ]
  },
  {
   "cell_type": "code",
   "execution_count": 5,
   "metadata": {
    "id": "-Xi2cRky8dMy"
   },
   "outputs": [],
   "source": [
    "#variable initiation\n",
    "database = 'database.fasta'\n",
    "seqTestBlast = 'test.fasta'\n",
    "input_blosum_f = 'BLOSUM62.txt'\n",
    "aa = ['A', 'R', 'N', 'D', 'C', 'Q', 'E', 'G', 'H', 'I', 'L', 'K', 'M', 'F', 'P', 'S', 'T', 'W', 'Y', 'V', 'X']\n",
    "\n",
    "#parameters\n",
    "q = 21\n",
    "gap = -5\n",
    "w = 5\n",
    "\n",
    "#For a simple test use:\n",
    "database = 'databaseToy.fasta'\n",
    "seqTestBlast = 'testToy.fasta'\n",
    "w=3"
   ]
  },
  {
   "cell_type": "code",
   "execution_count": 6,
   "metadata": {},
   "outputs": [],
   "source": [
    "#Read the test.fasta file\n",
    "def read_fasta(input_f):\n",
    "    \"\"\"\n",
    "    Input1 input_f: fasta file name\n",
    "    Output1 arr_seqs: List of sequences\n",
    "    REMARK : We keep only the sequences, identifiers are not necessary\n",
    "    \"\"\"\n",
    "    arr_seqs = []\n",
    "    with open(input_f, 'r') as in_f :\n",
    "        for line in in_f :\n",
    "            if not line.startswith ('>') : \n",
    "                arr_seqs.append(line.strip())\n",
    "    return arr_seqs"
   ]
  },
  {
   "cell_type": "code",
   "execution_count": 47,
   "metadata": {},
   "outputs": [],
   "source": [
    "def read_fasta_dict(input_f):\n",
    "    \"\"\"\n",
    "    Input1 input_f: fasta file name\n",
    "    Output1 arr_seqs: Dict of name_seq : sequences\n",
    "    REMARK : We keep only the sequences, identifiers are not necessary\n",
    "    \"\"\"\n",
    "    dict_seqs = dict()\n",
    "    with open(input_f, 'r') as in_f :\n",
    "        header = None\n",
    "        for line in in_f :\n",
    "            if line.startswith ('>') :\n",
    "                header = line[1:]\n",
    "                header = [char for char in list(header) if char !='\\n']\n",
    "                header = \"\".join(header)\n",
    "                dict_seqs[header]=\"\"\n",
    "            else : \n",
    "                line = [char for char in list(line) if char !='\\n']\n",
    "                dict_seqs[header]+=\"\".join(line).upper()\n",
    "            \n",
    "    return dict_seqs"
   ]
  },
  {
   "cell_type": "code",
   "execution_count": 48,
   "metadata": {
    "id": "9qPt-Keg8dM0"
   },
   "outputs": [
    {
     "name": "stdout",
     "output_type": "stream",
     "text": [
      "{'AGH': [('s1', 0)], 'GHR': [('s1', 1), ('s2', 2)], 'CGG': [('s2', 0), ('s3', 0)], 'GGH': [('s2', 1), ('s3', 1)], 'GHA': [('s3', 2)]}\n",
      "{'s1': 'AGHR', 's2': 'CGGHR', 's3': 'CGGHA'}\n"
     ]
    }
   ],
   "source": [
    "\n",
    "def etape0(fileName, w):\n",
    "    \"\"\"\n",
    "    Database indexation\n",
    "    Input1 fileName: fasta file name\n",
    "    Input2 w:  word size\n",
    "    Output1 index: dictionary containing indexed words\n",
    "    Output2 dicoSeq: dictionary containing database entire sequences\n",
    "    \"\"\"\n",
    "    index={}\n",
    "    dicoSeq = read_fasta_dict(fileName)\n",
    "   \n",
    "    for seq_name, seq in dicoSeq.items() : \n",
    "        for i in range(len(seq)-w+1):\n",
    "            word = seq[i:i+w].upper()\n",
    "            p = (seq_name, i)\n",
    "            if (word) in index.keys():\n",
    "                index[word].append(p)\n",
    "            else : \n",
    "                index[word]=[p]\n",
    "    return index,dicoSeq\n",
    "\n",
    "index,dicoSeq = etape0(database, w)\n",
    "print (index)\n",
    "print (dicoSeq)\n",
    "#{'AGH': [('s1', 0)], 'CGG': [('s3', 0)], 'GGH': [('s2', 1)]}\n",
    "#{'s1': 'AGHR', 's2': 'CGGHR', 's3': 'CGGH'}"
   ]
  },
  {
   "cell_type": "markdown",
   "metadata": {
    "id": "SQu6QVwU8dM3"
   },
   "source": [
    "<b>Exercice 4</b>: Chercher la séquence query test.fasta dans la base indexé construite précédemment, entendez l'alignement pour avoir un alignement sans gap et de score > 12. Retournez les quatre meilleurs alignements.\n"
   ]
  },
  {
   "cell_type": "code",
   "execution_count": 49,
   "metadata": {},
   "outputs": [],
   "source": [
    "#read Blosum\n",
    "def read_blosum_matrix(input_f) :\n",
    "    \"\"\"\n",
    "    Input1 input_f : blosum file name\n",
    "    Output1: a matrix of dimention [q-1, q-1]\n",
    "    REMARK : You should eliminate the columns/rows B, Z and * from Blosum file\n",
    "    \"\"\"\n",
    "    blosum = np.zeros((q-1,q-1))\n",
    "    unwanted_aa = {'B', 'Z', 'X', '*'}\n",
    "    first_line = True\n",
    "    aa_list = []\n",
    "    matrix_lines = []\n",
    "    row_idx = 0\n",
    "    \n",
    "    with open(input_f, 'r') as in_f :\n",
    "        for line in in_f :\n",
    "            if line.startswith(\"#\") or line.strip() == \"\" :\n",
    "                continue\n",
    "            \n",
    "            if first_line :\n",
    "                first_line = False \n",
    "                aa_list = line.split()\n",
    "                continue\n",
    "\n",
    "            parts = line.split()\n",
    "            scores = list(map(int, parts[1:]))\n",
    "            matrix_lines.append(scores)\n",
    "\n",
    "    matrix = np.array(matrix_lines)\n",
    "    for aa in unwanted_aa :\n",
    "        ind = aa_list.index(aa)\n",
    "        matrix = np.delete(matrix, ind, axis=0)\n",
    "        matrix = np.delete(matrix, ind, axis=1)\n",
    "        del aa_list[ind]\n",
    "\n",
    "    blosum = matrix \n",
    "    \n",
    "    return blosum"
   ]
  },
  {
   "cell_type": "code",
   "execution_count": 42,
   "metadata": {
    "id": "rr51wl3B8dM3"
   },
   "outputs": [
    {
     "name": "stdout",
     "output_type": "stream",
     "text": [
      "4\n"
     ]
    }
   ],
   "source": [
    "#read Blosum\n",
    "def readBlosum(nameFile):\n",
    "    \"\"\"\n",
    "    Read substitution matrix file\n",
    "    Input1 fileName : blosum file name\n",
    "    Output1 Blosum: a dictionary containing BLOSUM matrix, key is a pair of amino acids (alphabetic order) and value is the substitution value.\n",
    "    REMARK : You could eliminate the last four columns and last four rows of Blosum file\n",
    "    \"\"\"\n",
    "    Blosum={}\n",
    "\n",
    "    # ReadBlossum into matrix\n",
    "    B = read_blosum_matrix(nameFile)\n",
    "    \n",
    "    for i in range(len(B)):\n",
    "        for j in range(len(B)):\n",
    "            aa1=aa[i]\n",
    "            aa2=aa[j]\n",
    "            Blosum[aa1+aa2]=B[i,j]\n",
    "\n",
    "    return Blosum\n",
    "\n",
    "blosum = readBlosum(input_blosum_f)\n",
    "print (blosum[\"AA\"])\n",
    "#4"
   ]
  },
  {
   "cell_type": "code",
   "execution_count": 50,
   "metadata": {
    "id": "m_0g7IwC8dM5"
   },
   "outputs": [
    {
     "ename": "IndexError",
     "evalue": "tuple index out of range",
     "output_type": "error",
     "traceback": [
      "\u001b[0;31m---------------------------------------------------------------------------\u001b[0m",
      "\u001b[0;31mIndexError\u001b[0m                                Traceback (most recent call last)",
      "Cell \u001b[0;32mIn[50], line 42\u001b[0m\n\u001b[1;32m     38\u001b[0m     \u001b[38;5;66;03m# Calcul de score\u001b[39;00m\n\u001b[1;32m     40\u001b[0m     \u001b[38;5;28;01mreturn\u001b[39;00m [finalScore, algLength, alnSeqs]\n\u001b[0;32m---> 42\u001b[0m res \u001b[38;5;241m=\u001b[39m \u001b[43mextendAln\u001b[49m\u001b[43m(\u001b[49m\u001b[38;5;241;43m1\u001b[39;49m\u001b[43m,\u001b[49m\u001b[43m \u001b[49m\u001b[38;5;241;43m1\u001b[39;49m\u001b[43m,\u001b[49m\u001b[43m \u001b[49m\u001b[43mdicoSeq\u001b[49m\u001b[43m[\u001b[49m\u001b[38;5;124;43m'\u001b[39;49m\u001b[38;5;124;43ms2\u001b[39;49m\u001b[38;5;124;43m'\u001b[39;49m\u001b[43m]\u001b[49m\u001b[43m,\u001b[49m\u001b[43m \u001b[49m\u001b[38;5;124;43m'\u001b[39;49m\u001b[38;5;124;43mAGGHV\u001b[39;49m\u001b[38;5;124;43m'\u001b[39;49m\u001b[43m,\u001b[49m\u001b[43m \u001b[49m\u001b[43mblosum\u001b[49m\u001b[43m,\u001b[49m\u001b[43m \u001b[49m\u001b[38;5;241;43m20\u001b[39;49m\u001b[43m,\u001b[49m\u001b[43m \u001b[49m\u001b[38;5;241;43m3\u001b[39;49m\u001b[43m,\u001b[49m\u001b[43m \u001b[49m\u001b[38;5;241;43m18\u001b[39;49m\u001b[43m)\u001b[49m\n\u001b[1;32m     43\u001b[0m \u001b[38;5;28mprint\u001b[39m (res)\n\u001b[1;32m     44\u001b[0m \u001b[38;5;66;03m#[20, 4, ('CGGH', 'AGGH')]\u001b[39;00m\n",
      "Cell \u001b[0;32mIn[50], line 34\u001b[0m, in \u001b[0;36mextendAln\u001b[0;34m(pos1, pos2, sequence1, sequence2, matriceBlosum, scoremotif, w, ThrScore)\u001b[0m\n\u001b[1;32m     32\u001b[0m         finalScore\u001b[38;5;241m=\u001b[39mscoremotif\n\u001b[1;32m     33\u001b[0m         algLength\u001b[38;5;241m+\u001b[39m\u001b[38;5;241m=\u001b[39m\u001b[38;5;241m1\u001b[39m\n\u001b[0;32m---> 34\u001b[0m         alnSeqs[\u001b[38;5;241m0\u001b[39m]\u001b[38;5;241m+\u001b[39m\u001b[38;5;241m=\u001b[39maa1\n\u001b[1;32m     35\u001b[0m         alnSeqs[\u001b[38;5;241m1\u001b[39m]\u001b[38;5;241m+\u001b[39m\u001b[38;5;241m=\u001b[39maa2    \n\u001b[1;32m     38\u001b[0m \u001b[38;5;66;03m# Calcul de score\u001b[39;00m\n",
      "\u001b[0;31mIndexError\u001b[0m: tuple index out of range"
     ]
    }
   ],
   "source": [
    "def extendAln(pos1, pos2, sequence1, sequence2, matriceBlosum, scoremotif, w, ThrScore):\n",
    "    \"\"\"\n",
    "    extend alignment left/right by keeping score above a threshold\n",
    "    Input1 pos1 : position in the first sequence (Subject)\n",
    "    Input2 pos2 : position in the second sequence (query)\n",
    "    Input3 sequence1 : first sequence (Subject)\n",
    "    Input4 sequence1 : second sequence (query)\n",
    "    Input5 matriceBlosum: a dictionary containing BLOSUM matrix\n",
    "    Input6 scoremotif: initial score\n",
    "    Input7 w: word size\n",
    "    Input8 ThrScore: threshold\n",
    "    Output 1 finalScore: final score\n",
    "    Output 2 algLength: alignment length\n",
    "    Output 3 alnSeqs: Tuple containing aligned sequences\n",
    "    \"\"\"\n",
    "\n",
    "    # Initialisation\n",
    "    finalScore= 0\n",
    "    algLength = 0\n",
    "    alnSeqs = ()\n",
    "\n",
    "    # Extend similar motif\n",
    "    for i, j in zip (range(pos1,len(sequence1)), range(pos2,len(sequence2))):\n",
    "        # calcul du nouveau score\n",
    "        aa1=sequence1[i]\n",
    "        aa2=sequence2[j]\n",
    "        n_score = matriceBlosum[aa1+aa2]\n",
    "        if n_score > ThrScore : \n",
    "            finalScore = scoremotif\n",
    "        else : \n",
    "            scoremotif = n_score\n",
    "            finalScore=scoremotif\n",
    "            algLength+=1\n",
    "            alnSeqs[0]+=aa1\n",
    "            alnSeqs[1]+=aa2    \n",
    "            \n",
    "\n",
    "    # Calcul de score\n",
    "\n",
    "    return [finalScore, algLength, alnSeqs]\n",
    "\n",
    "res = extendAln(1, 1, dicoSeq['s2'], 'AGGHV', blosum, 20, 3, 18)\n",
    "print (res)\n",
    "#[20, 4, ('CGGH', 'AGGH')]\n",
    "res = extendAln(1, 1, dicoSeq['s2'], 'AGGHV', blosum, 20, 3, 13)\n",
    "print (res)\n",
    "#[17, 5, ('CGGHR', 'AGGHV')]\n"
   ]
  },
  {
   "cell_type": "code",
   "execution_count": null,
   "metadata": {
    "id": "ZMHK8wOQ8dM6"
   },
   "outputs": [],
   "source": [
    "def getWordsQuery(w, query, indexB):\n",
    "    \"\"\"\n",
    "    Loking for indexed words in the query\n",
    "    Input1 w: word size\n",
    "    Input2 query: sequence\n",
    "    Input3 indexB: indexed database\n",
    "    Output1 foundWords: Tuple containg found words, position in query, list of pairs (Subject id, Subject position)\n",
    "    \"\"\"\n",
    "    foundWords=[]\n",
    "\n",
    "    return foundWords\n",
    "\n",
    "foundWords = getWordsQuery(w,  'AGGHV', index)\n",
    "print (foundWords)\n",
    "#[('GGH', 1, [('s2', 1)])]\n"
   ]
  },
  {
   "cell_type": "code",
   "execution_count": null,
   "metadata": {
    "id": "lHLmm7dT8dM6"
   },
   "outputs": [],
   "source": [
    "#Implement BLAST algorithm\n",
    "\n",
    "def Blast(foundWords, indexedDB, Query, dicoSeq, T, w, matriceBlosum):\n",
    "    \"\"\"\n",
    "    input1 foundWords: Tuple containg found words, position in query, list of pairs (Subject id, Subject position\n",
    "    input2 indexedDB: indexed database\n",
    "    input3 query: query sequence\n",
    "    input4 dicoSeq: dictionary containing database sequences\n",
    "    input5 T: Threahold score\n",
    "    input6 w: word size\n",
    "    Input7 matriceBlosum: a dictionary containing BLOSUM matrix\n",
    "    output1 alignedSeq: Tuple of aligned sequences\n",
    "    \"\"\"\n",
    "    alignedSeq=()\n",
    "\n",
    "\n",
    "    return alignedSeq\n",
    "\n",
    "ThrScore = 12\n",
    "alignedSeq = Blast(foundWords, index, \"AGGHV\", blosum, w, ThrScore)\n"
   ]
  },
  {
   "cell_type": "markdown",
   "metadata": {
    "id": "3OMCr9hF8dM7"
   },
   "source": [
    "<h3>Section 2: PSI-BLAST</h3>\n",
    "On considère à nouveau le gène FHIT chez l'homme.\n",
    "<BR>\n",
    "<b> Exercice 1 </b>:\n",
    "Faites un PSI-BLAST de ce gène contre la base SWISS-PROT. Utilisez un seuil pour l’évalue de 1e-5.\n",
    "Que constatez-vous lors de la 1ère itération concernant les protéines de la famille des galactose-1-phosphate uridylyltransferases?\n"
   ]
  },
  {
   "cell_type": "markdown",
   "metadata": {
    "id": "UUQh0pFq8dM7"
   },
   "source": [
    "<font color=\"red\"> Réponse : </font>\n",
    "<font color=\"blue\">\n",
    "Put your answers here\n",
    "</font>"
   ]
  },
  {
   "cell_type": "markdown",
   "metadata": {
    "id": "PsDnKVfO8dM8"
   },
   "source": [
    "<b> Exercice 2 </b>:\n",
    "Que constatez-vous lors de la 2eme itération? Lors de la 5eme itération?\n"
   ]
  },
  {
   "cell_type": "markdown",
   "metadata": {
    "id": "ZdBBLXJS8dM8"
   },
   "source": [
    "<font color=\"red\"> Réponse : </font>\n",
    "<font color=\"blue\">\n",
    "Put your answers here\n",
    "</font>"
   ]
  },
  {
   "cell_type": "markdown",
   "metadata": {
    "id": "SotrA6LN8dM9"
   },
   "source": [
    "<b> Exercice 3 </b>:\n",
    "À partir de quelle itération peut-on considérer qu'il y a eu une convergence de l'algorithme PSI- BLAST? Pour quoi ?"
   ]
  },
  {
   "cell_type": "markdown",
   "metadata": {
    "id": "uZOYATPY8dM9"
   },
   "source": [
    "<font color=\"red\"> Réponse : </font>\n",
    "<font color=\"blue\">\n",
    "Put your answers here\n",
    "</font>"
   ]
  },
  {
   "cell_type": "markdown",
   "metadata": {
    "id": "Vvb-m8I98dM9"
   },
   "source": [
    "<h3>Section 3: Alignement Multiple  </h3>\n"
   ]
  },
  {
   "cell_type": "markdown",
   "metadata": {
    "id": "5AxT0eyh8dM9"
   },
   "source": [
    "<b> Exercice 1 </b>:\n",
    "Accédez à l'application <a href=\"http://www.ebi.ac.uk/Tools/msa/clustalo/\">Clustal omega</a> et copiez les 7 séquences du fichier 7sequences.fasta. Expliquez, dans quel ordre les séquences ont été alignées."
   ]
  },
  {
   "cell_type": "markdown",
   "metadata": {
    "id": "IzK6JV9C8dM-"
   },
   "source": [
    "<font color=\"red\"> Réponse : </font>\n",
    "<font color=\"blue\">\n",
    "Put your answers here\n",
    "</font>"
   ]
  },
  {
   "cell_type": "markdown",
   "metadata": {
    "id": "Ke1OysRg8dM-"
   },
   "source": [
    "<b> Exercice 2 (OPTIONAL)  </b>:\n",
    "Faite une fonction pour calculer le score d’un alignement multiple. Le score de chaque position est la somme des tous les scores obtenus par BLOSUM62, et le score final est la somme des scores de chaque position divisée par la taille du alignement."
   ]
  },
  {
   "cell_type": "code",
   "execution_count": null,
   "metadata": {
    "id": "ES1Xz1IK8dM_"
   },
   "outputs": [],
   "source": [
    "#Read multi fasta\n",
    "def extraireAllFastaMulti(fileName):\n",
    "    \"\"\"\n",
    "    Read a FASTA file with several sequences\n",
    "    input1 fileName: file name\n",
    "    output1 IdSeq: list of sequences IDs\n",
    "    output2 Seqs: sequences\n",
    "    \"\"\"\n",
    "\n",
    "    Seqs=[]\n",
    "    IdSeq=[]\n",
    "\n",
    "    return IdSeq, Seqs"
   ]
  },
  {
   "cell_type": "code",
   "execution_count": null,
   "metadata": {
    "id": "mg-eQQJo8dM_"
   },
   "outputs": [],
   "source": [
    "def SP_score(SeqsM, blosum, gap):\n",
    "    \"\"\"\n",
    "    Compute MSA score based on a substitution matrix and gap penality\n",
    "    input1 SeqsM: list of aligned sequences\n",
    "    input2 blosum: substitution matrix\n",
    "    input3 gap: gap penality\n",
    "    output1 score: MSA score\n",
    "    \"\"\"\n",
    "\n",
    "    score = 0\n",
    "\n",
    "    return (score)\n",
    "\n",
    "SeqsM = ['ACG', 'A-G', 'ACD']\n",
    "score = SP_score(SeqsM, blosum, gap)\n",
    "print (score)\n",
    "#5.0"
   ]
  },
  {
   "cell_type": "markdown",
   "metadata": {
    "id": "ki4YjNGy8dM_"
   },
   "source": [
    "<b> Exercice 3 </b>: Aligner les séquences du fichiers algnMult2.fasta avec  <a href=\"http://www.ebi.ac.uk/Tools/msa/clustalo/\">Clustal omega</a>. Utiliser la fonction développé precedement  pour calculer le score du alignement. Quelle est la séquence la plus divergente?"
   ]
  },
  {
   "cell_type": "markdown",
   "metadata": {
    "id": "o2EpfQl88dNA"
   },
   "source": [
    "<font color=\"red\"> Réponse : </font>\n",
    "<font color=\"blue\">\n",
    "Put your answers here\n",
    "</font>"
   ]
  },
  {
   "cell_type": "markdown",
   "metadata": {
    "id": "le9ufHAU8dNA"
   },
   "source": []
  },
  {
   "cell_type": "markdown",
   "metadata": {
    "id": "j8V76SFH8dNA"
   },
   "source": []
  },
  {
   "cell_type": "code",
   "execution_count": null,
   "metadata": {
    "id": "WDZUfdwG8dNA"
   },
   "outputs": [],
   "source": []
  }
 ],
 "metadata": {
  "colab": {
   "provenance": []
  },
  "kernelspec": {
   "display_name": "interactiveGUI",
   "language": "python",
   "name": "python3"
  },
  "language_info": {
   "codemirror_mode": {
    "name": "ipython",
    "version": 3
   },
   "file_extension": ".py",
   "mimetype": "text/x-python",
   "name": "python",
   "nbconvert_exporter": "python",
   "pygments_lexer": "ipython3",
   "version": "3.10.14"
  }
 },
 "nbformat": 4,
 "nbformat_minor": 4
}
