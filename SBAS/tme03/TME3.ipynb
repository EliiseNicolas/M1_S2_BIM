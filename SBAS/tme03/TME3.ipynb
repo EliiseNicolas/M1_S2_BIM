{
 "cells": [
  {
   "cell_type": "markdown",
   "metadata": {
    "id": "7Z01TTBN8dMn"
   },
   "source": [
    "<h1><b>Statistique en Bioinformatique : </b> TME3 </h1>\n",
    "<br>\n",
    "L’objectif de ce TME est:\n",
    "<br>\n",
    "<ul>\n",
    "<li> objectif 1: comprendre les principales étapes de BLAST et PSIBLAST, </li>\n",
    "<li> objectif 2: comprendre et comparer les algoritimes de l'alignement progressive </li>\n",
    "</ul>\n",
    "<br>\n",
    "<div class=\"alert alert-warning\" role=\"alert\" style=\"margin: 10px\">\n",
    "<p><b>Soumission</b></p>\n",
    "<ul>\n",
    "<li>Soumettre sur moodle </li>\n",
    "</ul>\n",
    "</div>\n"
   ]
  },
  {
   "cell_type": "markdown",
   "metadata": {
    "id": "Ex2vcDtH8dMs"
   },
   "source": [
    "Nom etudiant 1 : ANTON Christine\n",
    "<br>\n",
    "Nom etudiant 2 : NICOLAS Elise\n",
    "<br>"
   ]
  },
  {
   "cell_type": "markdown",
   "metadata": {
    "id": "tG0LfDfK8dMt"
   },
   "source": [
    "<h3>Section 1: BLAST</h3>\n",
    "\n",
    "<b> Exercice 1 </b>: À partir de l'application BLAST, disponible via le site de <a href=\"http://blast.ncbi.nlm.nih.gov/\">NCBI</a>, cliquez sur protein Blast. Faites un BLAST de la séquence fasta/seq1.fasta. Expliquez le résultat graphique, la couleur de chaque hit et expliquez le tableau de résultat qu'est-ce que c'est chaque colonne?\n",
    "<br>\n"
   ]
  },
  {
   "cell_type": "markdown",
   "metadata": {
    "id": "1BEcym0S8dMu"
   },
   "source": [
    "<font color=\"red\"> Réponse : </font>\n",
    "<font color=\"blue\"> \n",
    "<br>\n",
    "The graphical result of the alignments shows the distribution of the top 120 BLAST hits on 100 subject sequences. The color of each hit reflects the quality of the hit : red -> high score (>=200); pink -> medium score (80–200); green -> low score (50–80); blue -> even lower score (40–50); black -> very low score (<40). The length of the bar reflects the extent of the alignment relative to the query sequence.\n",
    "<br>\n",
    "For seq1.fasta, we observe around 40 red hits (score >= 200) of the same length as the query sequence, along with other shorter sequences with slightly lower alignment scores (between 50 and 200).\n",
    "<br>\n",
    "The results table lists the subject sequences that match our query sequence. The different columns are : Description (description of the protein sequence), Scientific name (name and species of the identified protein), Max score, Total score, Query cover (percentage of the query sequence covered by the alignment), E-value (probability of obtaining this result by chance (the closer it is to 0, the better)), Identity percentage, Length of sequence, and Accession (link to the complete sequence in the database).\n",
    "</font>"
   ]
  },
  {
   "cell_type": "markdown",
   "metadata": {
    "id": "gVzhpUTg8dMv"
   },
   "source": [
    "<b>Exercice 2</b>: On s'intéresse à présent au gène FHIT chez l'homme (fragile histidine triad protein, identifiant P49789, télécharger du site  <a href=\"http://www.uniprot.org/\"> Uniprot </a>). La protéine de ce gène est structurellement proche des galactose-1-phosphate uridylyltransferases. Faites un BLAST de ce gène contre la base SWISSPROT. Que constatez-vous?"
   ]
  },
  {
   "cell_type": "markdown",
   "metadata": {
    "id": "YKNazevu8dMw"
   },
   "source": [
    "<font color=\"red\"> Réponse : </font>\n",
    "<font color=\"blue\">\n",
    "Put your answers here\n",
    "</font>"
   ]
  },
  {
   "cell_type": "markdown",
   "metadata": {
    "id": "ifCzIqX48dMw"
   },
   "source": [
    "<b>Exercice 3</b>: Implémenter l'étape 0 du algorithme BLAST (indexer la base de données), utilise w=5 et les séquences du fichier database.fasta."
   ]
  },
  {
   "cell_type": "code",
   "execution_count": null,
   "metadata": {
    "id": "-Xi2cRky8dMy"
   },
   "outputs": [],
   "source": [
    "import numpy as np\n",
    "\n",
    "#variable initiation\n",
    "database = 'fasta/database.fasta'\n",
    "seqTestBlast = 'fasta/test.fasta'\n",
    "input_blosum_f = 'BLOSUM62.txt'\n",
    "aa = ['A', 'R', 'N', 'D', 'C', 'Q', 'E', 'G', 'H', 'I', 'L', 'K', 'M', 'F', 'P', 'S', 'T', 'W', 'Y', 'V', 'X']\n",
    "\n",
    "#parameters\n",
    "q = 21\n",
    "gap = -5\n",
    "w = 5\n",
    "\n",
    "#For a simple test use:\n",
    "database = 'fastaToy/databaseToy.fasta'\n",
    "seqTestBlast = 'fastaToy/testToy.fasta'\n",
    "w=3"
   ]
  },
  {
   "cell_type": "code",
   "execution_count": null,
   "metadata": {
    "id": "9qPt-Keg8dM0"
   },
   "outputs": [],
   "source": [
    "\n",
    "def etape0(fileName, w):\n",
    "    \"\"\"\n",
    "    Database indexation\n",
    "    Input1 fileName: fasta file name\n",
    "    Input2 w:  word size\n",
    "    Output1 index: dictionary containing indexed words\n",
    "    Output2 dicoSeq: dictionary containing database entire sequences\n",
    "    \"\"\"\n",
    "    index={}\n",
    "    dicoSeq={}\n",
    "\n",
    "    return index,dicoSeq\n",
    "\n",
    "index,dicoSeq = etape0(database, w)\n",
    "print (index)\n",
    "print (dicoSeq)\n",
    "#{'AGH': [('s1', 0)], 'CGG': [('s3', 0)], 'GGH': [('s2', 1)]}\n",
    "#{'s1': 'AGHR', 's2': 'CGGHR', 's3': 'CGGH'}"
   ]
  },
  {
   "cell_type": "markdown",
   "metadata": {
    "id": "SQu6QVwU8dM3"
   },
   "source": [
    "<b>Exercice 4</b>: Chercher la séquence query test.fasta dans la base indexé construite précédemment, entendez l'alignement pour avoir un alignement sans gap et de score > 12. Retournez les quatre meilleurs alignements.\n"
   ]
  },
  {
   "cell_type": "code",
   "execution_count": null,
   "metadata": {
    "id": "rr51wl3B8dM3"
   },
   "outputs": [],
   "source": [
    "#read Blosum\n",
    "def readBlosum(nameFile):\n",
    "    \"\"\"\n",
    "    Read substitution matrix file\n",
    "    Input1 fileName : blosum file name\n",
    "    Output1 Blosum: a dictionary containing BLOSUM matrix, key is a pair of amino acids (alphabetic order) and value is the substitution value.\n",
    "    REMARK : You could eliminate the last four columns and last four rows of Blosum file\n",
    "    \"\"\"\n",
    "    Blosum={}\n",
    "\n",
    "    return Blosum\n",
    "\n",
    "blosum = readBlosum(input_blosum_f)\n",
    "print (blosum[\"AA\"])\n",
    "#4"
   ]
  },
  {
   "cell_type": "code",
   "execution_count": null,
   "metadata": {
    "id": "m_0g7IwC8dM5"
   },
   "outputs": [],
   "source": [
    "def extendAln(pos1, pos2, sequence1, sequence2, matriceBlosum, scoremotif, w, ThrScore):\n",
    "    \"\"\"\n",
    "    extend alignment left/right by keeping score above a threshold\n",
    "    Input1 pos1 : position in the first sequence (Subject)\n",
    "    Input2 pos2 : position in the second sequence (query)\n",
    "    Input3 sequence1 : first sequence (Subject)\n",
    "    Input4 sequence1 : second sequence (query)\n",
    "    Input5 matriceBlosum: a dictionary containing BLOSUM matrix\n",
    "    Input6 scoremotif: initial score\n",
    "    Input7 w: word size\n",
    "    Input8 ThrScore: threshold\n",
    "    Output 1 finalScore: final score\n",
    "    Output 2 algLength: alignment length\n",
    "    Output 3 alnSeqs: Tuple containing aligned sequences\n",
    "    \"\"\"\n",
    "\n",
    "\n",
    "    finalScore= 0\n",
    "    algLength = 0\n",
    "    alnSeqs = ()\n",
    "\n",
    "    return [finalScore, algLength, alnSeqs]\n",
    "\n",
    "res = extendAln(1, 1, dicoSeq['s2'], 'AGGHV', blosum, 20, 3, 18)\n",
    "print (res)\n",
    "#[20, 4, ('CGGH', 'AGGH')]\n",
    "res = extendAln(1, 1, dicoSeq['s2'], 'AGGHV', blosum, 20, 3, 13)\n",
    "print (res)\n",
    "#[17, 5, ('CGGHR', 'AGGHV')]\n"
   ]
  },
  {
   "cell_type": "code",
   "execution_count": null,
   "metadata": {
    "id": "ZMHK8wOQ8dM6"
   },
   "outputs": [],
   "source": [
    "def getWordsQuery(w, query, indexB):\n",
    "    \"\"\"\n",
    "    Loking for indexed words in the query\n",
    "    Input1 w: word size\n",
    "    Input2 query: sequence\n",
    "    Input3 indexB: indexed database\n",
    "    Output1 foundWords: Tuple containg found words, position in query, list of pairs (Subject id, Subject position)\n",
    "    \"\"\"\n",
    "    foundWords=[]\n",
    "\n",
    "    return foundWords\n",
    "\n",
    "foundWords = getWordsQuery(w,  'AGGHV', index)\n",
    "print (foundWords)\n",
    "#[('GGH', 1, [('s2', 1)])]\n"
   ]
  },
  {
   "cell_type": "code",
   "execution_count": null,
   "metadata": {
    "id": "lHLmm7dT8dM6"
   },
   "outputs": [],
   "source": [
    "#Implement BLAST algorithm\n",
    "\n",
    "def Blast(foundWords, indexedDB, Query, dicoSeq, T, w, matriceBlosum):\n",
    "    \"\"\"\n",
    "    input1 foundWords: Tuple containg found words, position in query, list of pairs (Subject id, Subject position\n",
    "    input2 indexedDB: indexed database\n",
    "    input3 query: query sequence\n",
    "    input4 dicoSeq: dictionary containing database sequences\n",
    "    input5 T: Threahold score\n",
    "    input6 w: word size\n",
    "    Input7 matriceBlosum: a dictionary containing BLOSUM matrix\n",
    "    output1 alignedSeq: Tuple of aligned sequences\n",
    "    \"\"\"\n",
    "    alignedSeq=()\n",
    "\n",
    "\n",
    "    return alignedSeq\n",
    "\n",
    "ThrScore = 12\n",
    "alignedSeq = Blast(foundWords, index, \"AGGHV\", blosum, w, ThrScore)\n"
   ]
  },
  {
   "cell_type": "markdown",
   "metadata": {
    "id": "3OMCr9hF8dM7"
   },
   "source": [
    "<h3>Section 2: PSI-BLAST</h3>\n",
    "On considère à nouveau le gène FHIT chez l'homme.\n",
    "<BR>\n",
    "<b> Exercice 1 </b>:\n",
    "Faites un PSI-BLAST de ce gène contre la base SWISS-PROT. Utilisez un seuil pour l’évalue de 1e-5.\n",
    "Que constatez-vous lors de la 1ère itération concernant les protéines de la famille des galactose-1-phosphate uridylyltransferases?\n"
   ]
  },
  {
   "cell_type": "markdown",
   "metadata": {
    "id": "UUQh0pFq8dM7"
   },
   "source": [
    "<font color=\"red\"> Réponse : </font>\n",
    "<font color=\"blue\">\n",
    "Put your answers here\n",
    "</font>"
   ]
  },
  {
   "cell_type": "markdown",
   "metadata": {
    "id": "PsDnKVfO8dM8"
   },
   "source": [
    "<b> Exercice 2 </b>:\n",
    "Que constatez-vous lors de la 2eme itération? Lors de la 5eme itération?\n"
   ]
  },
  {
   "cell_type": "markdown",
   "metadata": {
    "id": "ZdBBLXJS8dM8"
   },
   "source": [
    "<font color=\"red\"> Réponse : </font>\n",
    "<font color=\"blue\">\n",
    "Put your answers here\n",
    "</font>"
   ]
  },
  {
   "cell_type": "markdown",
   "metadata": {
    "id": "SotrA6LN8dM9"
   },
   "source": [
    "<b> Exercice 3 </b>:\n",
    "À partir de quelle itération peut-on considérer qu'il y a eu une convergence de l'algorithme PSI- BLAST? Pour quoi ?"
   ]
  },
  {
   "cell_type": "markdown",
   "metadata": {
    "id": "uZOYATPY8dM9"
   },
   "source": [
    "<font color=\"red\"> Réponse : </font>\n",
    "<font color=\"blue\">\n",
    "Put your answers here\n",
    "</font>"
   ]
  },
  {
   "cell_type": "markdown",
   "metadata": {
    "id": "Vvb-m8I98dM9"
   },
   "source": [
    "<h3>Section 3: Alignement Multiple  </h3>\n"
   ]
  },
  {
   "cell_type": "markdown",
   "metadata": {
    "id": "5AxT0eyh8dM9"
   },
   "source": [
    "<b> Exercice 1 </b>:\n",
    "Accédez à l'application <a href=\"http://www.ebi.ac.uk/Tools/msa/clustalo/\">Clustal omega</a> et copiez les 7 séquences du fichier 7sequences.fasta. Expliquez, dans quel ordre les séquences ont été alignées."
   ]
  },
  {
   "cell_type": "markdown",
   "metadata": {
    "id": "IzK6JV9C8dM-"
   },
   "source": [
    "<font color=\"red\"> Réponse : </font>\n",
    "<font color=\"blue\">\n",
    "Put your answers here\n",
    "</font>"
   ]
  },
  {
   "cell_type": "markdown",
   "metadata": {
    "id": "Ke1OysRg8dM-"
   },
   "source": [
    "<b> Exercice 2 (OPTIONAL)  </b>:\n",
    "Faite une fonction pour calculer le score d’un alignement multiple. Le score de chaque position est la somme des tous les scores obtenus par BLOSUM62, et le score final est la somme des scores de chaque position divisée par la taille du alignement."
   ]
  },
  {
   "cell_type": "code",
   "execution_count": null,
   "metadata": {
    "id": "ES1Xz1IK8dM_"
   },
   "outputs": [],
   "source": [
    "#Read multi fasta\n",
    "def extraireAllFastaMulti(fileName):\n",
    "    \"\"\"\n",
    "    Read a FASTA file with several sequences\n",
    "    input1 fileName: file name\n",
    "    output1 IdSeq: list of sequences IDs\n",
    "    output2 Seqs: sequences\n",
    "    \"\"\"\n",
    "\n",
    "    Seqs=[]\n",
    "    IdSeq=[]\n",
    "\n",
    "    return IdSeq, Seqs"
   ]
  },
  {
   "cell_type": "code",
   "execution_count": null,
   "metadata": {
    "id": "mg-eQQJo8dM_"
   },
   "outputs": [],
   "source": [
    "def SP_score(SeqsM, blosum, gap):\n",
    "    \"\"\"\n",
    "    Compute MSA score based on a substitution matrix and gap penality\n",
    "    input1 SeqsM: list of aligned sequences\n",
    "    input2 blosum: substitution matrix\n",
    "    input3 gap: gap penality\n",
    "    output1 score: MSA score\n",
    "    \"\"\"\n",
    "\n",
    "    score = 0\n",
    "\n",
    "    return (score)\n",
    "\n",
    "SeqsM = ['ACG', 'A-G', 'ACD']\n",
    "score = SP_score(SeqsM, blosum, gap)\n",
    "print (score)\n",
    "#5.0"
   ]
  },
  {
   "cell_type": "markdown",
   "metadata": {
    "id": "ki4YjNGy8dM_"
   },
   "source": [
    "<b> Exercice 3 </b>: Aligner les séquences du fichiers algnMult2.fasta avec  <a href=\"http://www.ebi.ac.uk/Tools/msa/clustalo/\">Clustal omega</a>. Utiliser la fonction développé precedement  pour calculer le score du alignement. Quelle est la séquence la plus divergente?"
   ]
  },
  {
   "cell_type": "markdown",
   "metadata": {
    "id": "o2EpfQl88dNA"
   },
   "source": [
    "<font color=\"red\"> Réponse : </font>\n",
    "<font color=\"blue\">\n",
    "Put your answers here\n",
    "</font>"
   ]
  },
  {
   "cell_type": "markdown",
   "metadata": {
    "id": "le9ufHAU8dNA"
   },
   "source": []
  },
  {
   "cell_type": "markdown",
   "metadata": {
    "id": "j8V76SFH8dNA"
   },
   "source": []
  },
  {
   "cell_type": "code",
   "execution_count": null,
   "metadata": {
    "id": "WDZUfdwG8dNA"
   },
   "outputs": [],
   "source": []
  }
 ],
 "metadata": {
  "colab": {
   "provenance": []
  },
  "kernelspec": {
   "display_name": "Python 3 (ipykernel)",
   "language": "python",
   "name": "python3"
  },
  "language_info": {
   "codemirror_mode": {
    "name": "ipython",
    "version": 3
   },
   "file_extension": ".py",
   "mimetype": "text/x-python",
   "name": "python",
   "nbconvert_exporter": "python",
   "pygments_lexer": "ipython3",
   "version": "3.12.3"
  }
 },
 "nbformat": 4,
 "nbformat_minor": 4
}
